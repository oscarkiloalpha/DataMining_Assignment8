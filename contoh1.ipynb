{
 "cells": [
  {
   "cell_type": "code",
   "execution_count": 1,
   "id": "a14c38f1",
   "metadata": {},
   "outputs": [],
   "source": [
    "import numpy as np\n",
    "\n",
    "def forwardPass(inputs, weight, bias) :\n",
    "    w_sum = np.dot(inputs, weight) + bias\n",
    "    \n",
    "    act = w_sum\n",
    "    return act"
   ]
  },
  {
   "cell_type": "code",
   "execution_count": 2,
   "id": "caeb4579",
   "metadata": {},
   "outputs": [],
   "source": [
    "W = np.array([[2.99999928]])\n",
    "b = np.array([1.99999976])"
   ]
  },
  {
   "cell_type": "code",
   "execution_count": 3,
   "id": "46c8fb7d",
   "metadata": {},
   "outputs": [],
   "source": [
    "inputs = np.array([[7], [8], [9], [10]])"
   ]
  },
  {
   "cell_type": "code",
   "execution_count": 4,
   "id": "c3398944",
   "metadata": {},
   "outputs": [],
   "source": [
    "o_out = forwardPass(inputs, W, b)"
   ]
  },
  {
   "cell_type": "code",
   "execution_count": 5,
   "id": "aafb9af6",
   "metadata": {},
   "outputs": [
    {
     "name": "stdout",
     "output_type": "stream",
     "text": [
      "Output Layer Output (Linear)\n",
      "================================\n",
      "[[22.99999472]\n",
      " [25.999994  ]\n",
      " [28.99999328]\n",
      " [31.99999256]] \n",
      "\n"
     ]
    }
   ],
   "source": [
    "print('Output Layer Output (Linear)')\n",
    "print('================================')\n",
    "print(o_out, \"\\n\")"
   ]
  },
  {
   "cell_type": "code",
   "execution_count": null,
   "id": "6ed1ef20",
   "metadata": {},
   "outputs": [],
   "source": []
  }
 ],
 "metadata": {
  "kernelspec": {
   "display_name": "Python 3 (ipykernel)",
   "language": "python",
   "name": "python3"
  },
  "language_info": {
   "codemirror_mode": {
    "name": "ipython",
    "version": 3
   },
   "file_extension": ".py",
   "mimetype": "text/x-python",
   "name": "python",
   "nbconvert_exporter": "python",
   "pygments_lexer": "ipython3",
   "version": "3.10.0"
  }
 },
 "nbformat": 4,
 "nbformat_minor": 5
}
